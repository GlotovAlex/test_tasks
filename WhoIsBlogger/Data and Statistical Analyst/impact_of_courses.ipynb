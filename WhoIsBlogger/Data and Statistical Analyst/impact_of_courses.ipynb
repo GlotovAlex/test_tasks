{
 "cells": [
  {
   "cell_type": "markdown",
   "id": "9e86472e-2c6f-4119-b98e-bca1bd87fa40",
   "metadata": {},
   "source": [
    "**Текст задания**"
   ]
  },
  {
   "cell_type": "markdown",
   "id": "42bfb28a-c7a8-4e13-9cbb-aea53dad3ba2",
   "metadata": {},
   "source": [
    "Есть 2 группы студентов одна их которых ходила на подготовительные курсы, другая нет.\\\n",
    "Нужно понять повлияло ли посещение курсов на балл студентов между группами."
   ]
  },
  {
   "cell_type": "markdown",
   "id": "cb591012-a149-43da-9fbb-18b6dbf4930c",
   "metadata": {},
   "source": [
    "## Загрузка и изучение данных"
   ]
  },
  {
   "cell_type": "markdown",
   "id": "7db0d5e0-3671-435a-b03c-d903cfa1fa8a",
   "metadata": {},
   "source": [
    "Импортируем необходимые для работы библиотеки"
   ]
  },
  {
   "cell_type": "code",
   "execution_count": 1,
   "id": "f310a80c-8c54-4d46-8989-b1b4df53340b",
   "metadata": {},
   "outputs": [],
   "source": [
    "import pandas as pd\n",
    "import numpy as np\n",
    "from matplotlib import pyplot as plt\n",
    "import scipy.stats as stats\n",
    "from tqdm.notebook import tqdm"
   ]
  },
  {
   "cell_type": "markdown",
   "id": "1c944c56-756a-49a2-936c-48336a553520",
   "metadata": {},
   "source": [
    "Загрузим предоставленные датасеты"
   ]
  },
  {
   "cell_type": "code",
   "execution_count": 2,
   "id": "d4275f6a-a75c-4fed-9fcf-23e107940f66",
   "metadata": {},
   "outputs": [],
   "source": [
    "try:\n",
    "    student_group = pd.read_csv('datasets/student_group.csv')\n",
    "    student_before_score = pd.read_csv('datasets/student_before_score.csv')\n",
    "    student_after_score = pd.read_csv('datasets/student_after_score.csv')\n",
    "except:\n",
    "    print('Не удалось загрузить датасеты')"
   ]
  },
  {
   "cell_type": "markdown",
   "id": "3662e208-ae82-4205-b77a-f4b6404726c0",
   "metadata": {},
   "source": [
    "Проверим, есть ли дубликаты id пользователей"
   ]
  },
  {
   "cell_type": "code",
   "execution_count": 3,
   "id": "dca0f1dc-1807-4b8b-bb9e-d3074c7d04b1",
   "metadata": {},
   "outputs": [
    {
     "data": {
      "text/plain": [
       "0"
      ]
     },
     "execution_count": 3,
     "metadata": {},
     "output_type": "execute_result"
    }
   ],
   "source": [
    "student_group.student_id.duplicated().sum()"
   ]
  },
  {
   "cell_type": "markdown",
   "id": "47f5d819-1f80-4bf2-b540-838b8c754579",
   "metadata": {},
   "source": [
    "Дубликатов нет"
   ]
  },
  {
   "cell_type": "markdown",
   "id": "67fa380f-8b6b-447a-a97b-9d1b29316841",
   "metadata": {},
   "source": [
    "Выведем на экран первые 5 строк каждого датасета"
   ]
  },
  {
   "cell_type": "code",
   "execution_count": 4,
   "id": "3a884e96-fabf-4e13-b71f-db125ad12f87",
   "metadata": {},
   "outputs": [
    {
     "data": {
      "text/html": [
       "<div>\n",
       "<style scoped>\n",
       "    .dataframe tbody tr th:only-of-type {\n",
       "        vertical-align: middle;\n",
       "    }\n",
       "\n",
       "    .dataframe tbody tr th {\n",
       "        vertical-align: top;\n",
       "    }\n",
       "\n",
       "    .dataframe thead th {\n",
       "        text-align: right;\n",
       "    }\n",
       "</style>\n",
       "<table border=\"1\" class=\"dataframe\">\n",
       "  <thead>\n",
       "    <tr style=\"text-align: right;\">\n",
       "      <th></th>\n",
       "      <th>student_id</th>\n",
       "      <th>group</th>\n",
       "    </tr>\n",
       "  </thead>\n",
       "  <tbody>\n",
       "    <tr>\n",
       "      <th>0</th>\n",
       "      <td>1</td>\n",
       "      <td>no_course</td>\n",
       "    </tr>\n",
       "    <tr>\n",
       "      <th>1</th>\n",
       "      <td>2</td>\n",
       "      <td>course</td>\n",
       "    </tr>\n",
       "    <tr>\n",
       "      <th>2</th>\n",
       "      <td>3</td>\n",
       "      <td>course</td>\n",
       "    </tr>\n",
       "    <tr>\n",
       "      <th>3</th>\n",
       "      <td>4</td>\n",
       "      <td>course</td>\n",
       "    </tr>\n",
       "    <tr>\n",
       "      <th>4</th>\n",
       "      <td>5</td>\n",
       "      <td>course</td>\n",
       "    </tr>\n",
       "  </tbody>\n",
       "</table>\n",
       "</div>"
      ],
      "text/plain": [
       "   student_id      group\n",
       "0           1  no_course\n",
       "1           2     course\n",
       "2           3     course\n",
       "3           4     course\n",
       "4           5     course"
      ]
     },
     "execution_count": 4,
     "metadata": {},
     "output_type": "execute_result"
    }
   ],
   "source": [
    "student_group.head()"
   ]
  },
  {
   "cell_type": "code",
   "execution_count": 5,
   "id": "783ecd05-aa86-42c9-afa6-90b41396d204",
   "metadata": {},
   "outputs": [
    {
     "data": {
      "text/html": [
       "<div>\n",
       "<style scoped>\n",
       "    .dataframe tbody tr th:only-of-type {\n",
       "        vertical-align: middle;\n",
       "    }\n",
       "\n",
       "    .dataframe tbody tr th {\n",
       "        vertical-align: top;\n",
       "    }\n",
       "\n",
       "    .dataframe thead th {\n",
       "        text-align: right;\n",
       "    }\n",
       "</style>\n",
       "<table border=\"1\" class=\"dataframe\">\n",
       "  <thead>\n",
       "    <tr style=\"text-align: right;\">\n",
       "      <th></th>\n",
       "      <th>student_id</th>\n",
       "      <th>before_score</th>\n",
       "    </tr>\n",
       "  </thead>\n",
       "  <tbody>\n",
       "    <tr>\n",
       "      <th>0</th>\n",
       "      <td>1</td>\n",
       "      <td>75</td>\n",
       "    </tr>\n",
       "    <tr>\n",
       "      <th>1</th>\n",
       "      <td>2</td>\n",
       "      <td>81</td>\n",
       "    </tr>\n",
       "    <tr>\n",
       "      <th>2</th>\n",
       "      <td>3</td>\n",
       "      <td>58</td>\n",
       "    </tr>\n",
       "    <tr>\n",
       "      <th>3</th>\n",
       "      <td>4</td>\n",
       "      <td>47</td>\n",
       "    </tr>\n",
       "    <tr>\n",
       "      <th>4</th>\n",
       "      <td>5</td>\n",
       "      <td>76</td>\n",
       "    </tr>\n",
       "  </tbody>\n",
       "</table>\n",
       "</div>"
      ],
      "text/plain": [
       "   student_id  before_score\n",
       "0           1            75\n",
       "1           2            81\n",
       "2           3            58\n",
       "3           4            47\n",
       "4           5            76"
      ]
     },
     "execution_count": 5,
     "metadata": {},
     "output_type": "execute_result"
    }
   ],
   "source": [
    "student_before_score.head()"
   ]
  },
  {
   "cell_type": "code",
   "execution_count": 6,
   "id": "734ec9aa-6da2-44ce-945b-c53b8e4f2358",
   "metadata": {},
   "outputs": [
    {
     "data": {
      "text/html": [
       "<div>\n",
       "<style scoped>\n",
       "    .dataframe tbody tr th:only-of-type {\n",
       "        vertical-align: middle;\n",
       "    }\n",
       "\n",
       "    .dataframe tbody tr th {\n",
       "        vertical-align: top;\n",
       "    }\n",
       "\n",
       "    .dataframe thead th {\n",
       "        text-align: right;\n",
       "    }\n",
       "</style>\n",
       "<table border=\"1\" class=\"dataframe\">\n",
       "  <thead>\n",
       "    <tr style=\"text-align: right;\">\n",
       "      <th></th>\n",
       "      <th>student_id</th>\n",
       "      <th>after_score</th>\n",
       "    </tr>\n",
       "  </thead>\n",
       "  <tbody>\n",
       "    <tr>\n",
       "      <th>0</th>\n",
       "      <td>1</td>\n",
       "      <td>92</td>\n",
       "    </tr>\n",
       "    <tr>\n",
       "      <th>1</th>\n",
       "      <td>2</td>\n",
       "      <td>79</td>\n",
       "    </tr>\n",
       "    <tr>\n",
       "      <th>2</th>\n",
       "      <td>3</td>\n",
       "      <td>92</td>\n",
       "    </tr>\n",
       "    <tr>\n",
       "      <th>3</th>\n",
       "      <td>4</td>\n",
       "      <td>90</td>\n",
       "    </tr>\n",
       "    <tr>\n",
       "      <th>4</th>\n",
       "      <td>5</td>\n",
       "      <td>98</td>\n",
       "    </tr>\n",
       "  </tbody>\n",
       "</table>\n",
       "</div>"
      ],
      "text/plain": [
       "   student_id  after_score\n",
       "0           1           92\n",
       "1           2           79\n",
       "2           3           92\n",
       "3           4           90\n",
       "4           5           98"
      ]
     },
     "execution_count": 6,
     "metadata": {},
     "output_type": "execute_result"
    }
   ],
   "source": [
    "student_after_score.head()"
   ]
  },
  {
   "cell_type": "markdown",
   "id": "f972d58c-53f8-402f-98f3-68c65bd68915",
   "metadata": {},
   "source": [
    "Предоставлены следующие данные:\n",
    "- датафрейм `student_group` - принадлежность студента той или иной группе\n",
    "- датаферйм `student_before_score` - баллы студентов в определенный период \"до\"\n",
    "- датаферйм `student_after_score` - баллы студентов в определенный период \"после\""
   ]
  },
  {
   "cell_type": "markdown",
   "id": "3df84129-64cf-4552-b66d-8312b447349a",
   "metadata": {},
   "source": [
    "Посмотрим на распределение студентов по наличию/отсутствию курсов в долевом соотеошении"
   ]
  },
  {
   "cell_type": "code",
   "execution_count": 7,
   "id": "0a208796-8055-48e1-aaec-2dfe564adef0",
   "metadata": {},
   "outputs": [
    {
     "data": {
      "text/plain": [
       "group\n",
       "no_course    0.512\n",
       "course       0.488\n",
       "Name: proportion, dtype: float64"
      ]
     },
     "execution_count": 7,
     "metadata": {},
     "output_type": "execute_result"
    }
   ],
   "source": [
    "student_group['group'].value_counts(normalize=True)"
   ]
  },
  {
   "cell_type": "markdown",
   "id": "b8f52c12-df10-4dd1-ac06-729a6437458f",
   "metadata": {},
   "source": [
    "Студенты по наличию/отсутствию курсов распределены равномерно."
   ]
  },
  {
   "cell_type": "markdown",
   "id": "fad178a3-f569-445b-9f58-c7c4d0967f03",
   "metadata": {},
   "source": [
    "Для удобства соберем данные в один датафрейм"
   ]
  },
  {
   "cell_type": "code",
   "execution_count": 8,
   "id": "31a110f2-52b4-4234-be39-c247f9a54282",
   "metadata": {},
   "outputs": [],
   "source": [
    "df = (\n",
    "    student_group.merge(student_before_score, how='left', on='student_id')\n",
    "                 .merge(student_after_score, how='left', on='student_id')\n",
    ")"
   ]
  },
  {
   "cell_type": "markdown",
   "id": "e7609c71-aaee-4508-9384-84779d641722",
   "metadata": {},
   "source": [
    "Выведем описание и информацию о датафрейме"
   ]
  },
  {
   "cell_type": "code",
   "execution_count": 9,
   "id": "f4d51b2d-0921-47da-8db2-02ebca6ce275",
   "metadata": {},
   "outputs": [
    {
     "data": {
      "text/html": [
       "<div>\n",
       "<style scoped>\n",
       "    .dataframe tbody tr th:only-of-type {\n",
       "        vertical-align: middle;\n",
       "    }\n",
       "\n",
       "    .dataframe tbody tr th {\n",
       "        vertical-align: top;\n",
       "    }\n",
       "\n",
       "    .dataframe thead th {\n",
       "        text-align: right;\n",
       "    }\n",
       "</style>\n",
       "<table border=\"1\" class=\"dataframe\">\n",
       "  <thead>\n",
       "    <tr style=\"text-align: right;\">\n",
       "      <th></th>\n",
       "      <th>student_id</th>\n",
       "      <th>before_score</th>\n",
       "      <th>after_score</th>\n",
       "    </tr>\n",
       "  </thead>\n",
       "  <tbody>\n",
       "    <tr>\n",
       "      <th>count</th>\n",
       "      <td>1000.000000</td>\n",
       "      <td>1000.00000</td>\n",
       "      <td>1000.000000</td>\n",
       "    </tr>\n",
       "    <tr>\n",
       "      <th>mean</th>\n",
       "      <td>500.500000</td>\n",
       "      <td>63.92500</td>\n",
       "      <td>84.623000</td>\n",
       "    </tr>\n",
       "    <tr>\n",
       "      <th>std</th>\n",
       "      <td>288.819436</td>\n",
       "      <td>14.59851</td>\n",
       "      <td>8.641154</td>\n",
       "    </tr>\n",
       "    <tr>\n",
       "      <th>min</th>\n",
       "      <td>1.000000</td>\n",
       "      <td>40.00000</td>\n",
       "      <td>70.000000</td>\n",
       "    </tr>\n",
       "    <tr>\n",
       "      <th>25%</th>\n",
       "      <td>250.750000</td>\n",
       "      <td>51.00000</td>\n",
       "      <td>77.000000</td>\n",
       "    </tr>\n",
       "    <tr>\n",
       "      <th>50%</th>\n",
       "      <td>500.500000</td>\n",
       "      <td>64.00000</td>\n",
       "      <td>85.000000</td>\n",
       "    </tr>\n",
       "    <tr>\n",
       "      <th>75%</th>\n",
       "      <td>750.250000</td>\n",
       "      <td>77.00000</td>\n",
       "      <td>92.000000</td>\n",
       "    </tr>\n",
       "    <tr>\n",
       "      <th>max</th>\n",
       "      <td>1000.000000</td>\n",
       "      <td>89.00000</td>\n",
       "      <td>99.000000</td>\n",
       "    </tr>\n",
       "  </tbody>\n",
       "</table>\n",
       "</div>"
      ],
      "text/plain": [
       "        student_id  before_score  after_score\n",
       "count  1000.000000    1000.00000  1000.000000\n",
       "mean    500.500000      63.92500    84.623000\n",
       "std     288.819436      14.59851     8.641154\n",
       "min       1.000000      40.00000    70.000000\n",
       "25%     250.750000      51.00000    77.000000\n",
       "50%     500.500000      64.00000    85.000000\n",
       "75%     750.250000      77.00000    92.000000\n",
       "max    1000.000000      89.00000    99.000000"
      ]
     },
     "execution_count": 9,
     "metadata": {},
     "output_type": "execute_result"
    }
   ],
   "source": [
    "df.describe()"
   ]
  },
  {
   "cell_type": "code",
   "execution_count": 10,
   "id": "d1e514e0-e427-4f91-b97a-db158fafc7df",
   "metadata": {},
   "outputs": [
    {
     "name": "stdout",
     "output_type": "stream",
     "text": [
      "<class 'pandas.core.frame.DataFrame'>\n",
      "RangeIndex: 1000 entries, 0 to 999\n",
      "Data columns (total 4 columns):\n",
      " #   Column        Non-Null Count  Dtype \n",
      "---  ------        --------------  ----- \n",
      " 0   student_id    1000 non-null   int64 \n",
      " 1   group         1000 non-null   object\n",
      " 2   before_score  1000 non-null   int64 \n",
      " 3   after_score   1000 non-null   int64 \n",
      "dtypes: int64(3), object(1)\n",
      "memory usage: 31.4+ KB\n"
     ]
    }
   ],
   "source": [
    "df.info()"
   ]
  },
  {
   "cell_type": "markdown",
   "id": "767d62ff-5310-498d-ac4e-ed0004dd0aff",
   "metadata": {},
   "source": [
    "Пропуски отсутствуют, мы имеем полную информацию о всех студентах"
   ]
  },
  {
   "cell_type": "markdown",
   "id": "074313aa-43bb-4cf1-a08f-c2fdff66adba",
   "metadata": {},
   "source": [
    "## Исследовательский анализ данных"
   ]
  },
  {
   "cell_type": "markdown",
   "id": "dcfe678e-555d-4a8e-aedd-a409bed50a60",
   "metadata": {},
   "source": [
    "В рузультате анализа нам необходимо понять, понять повлияло ли посещение курсов на балл студентов между группами. В качестве метрики для оценки влияния примем разницу баллов в период \"после\" и \"до\" (обозначим как \"прирост\", может быть также отрицательным)"
   ]
  },
  {
   "cell_type": "markdown",
   "id": "05da9fde-2925-4b9e-86d3-1b5eb21e7524",
   "metadata": {},
   "source": [
    "Вычислим столбец, который будет показывать величину прироста"
   ]
  },
  {
   "cell_type": "code",
   "execution_count": 11,
   "id": "0570dffb-ff44-427c-b9c7-a0021c378ebc",
   "metadata": {},
   "outputs": [],
   "source": [
    "df['growth'] = df['after_score'] - df['before_score']"
   ]
  },
  {
   "cell_type": "code",
   "execution_count": 12,
   "id": "55e0935a-bf1b-4033-b5d3-0d5e5b10cc42",
   "metadata": {},
   "outputs": [
    {
     "data": {
      "text/html": [
       "<div>\n",
       "<style scoped>\n",
       "    .dataframe tbody tr th:only-of-type {\n",
       "        vertical-align: middle;\n",
       "    }\n",
       "\n",
       "    .dataframe tbody tr th {\n",
       "        vertical-align: top;\n",
       "    }\n",
       "\n",
       "    .dataframe thead th {\n",
       "        text-align: right;\n",
       "    }\n",
       "</style>\n",
       "<table border=\"1\" class=\"dataframe\">\n",
       "  <thead>\n",
       "    <tr style=\"text-align: right;\">\n",
       "      <th></th>\n",
       "      <th>student_id</th>\n",
       "      <th>group</th>\n",
       "      <th>before_score</th>\n",
       "      <th>after_score</th>\n",
       "      <th>growth</th>\n",
       "    </tr>\n",
       "  </thead>\n",
       "  <tbody>\n",
       "    <tr>\n",
       "      <th>0</th>\n",
       "      <td>1</td>\n",
       "      <td>no_course</td>\n",
       "      <td>75</td>\n",
       "      <td>92</td>\n",
       "      <td>17</td>\n",
       "    </tr>\n",
       "    <tr>\n",
       "      <th>1</th>\n",
       "      <td>2</td>\n",
       "      <td>course</td>\n",
       "      <td>81</td>\n",
       "      <td>79</td>\n",
       "      <td>-2</td>\n",
       "    </tr>\n",
       "    <tr>\n",
       "      <th>2</th>\n",
       "      <td>3</td>\n",
       "      <td>course</td>\n",
       "      <td>58</td>\n",
       "      <td>92</td>\n",
       "      <td>34</td>\n",
       "    </tr>\n",
       "    <tr>\n",
       "      <th>3</th>\n",
       "      <td>4</td>\n",
       "      <td>course</td>\n",
       "      <td>47</td>\n",
       "      <td>90</td>\n",
       "      <td>43</td>\n",
       "    </tr>\n",
       "    <tr>\n",
       "      <th>4</th>\n",
       "      <td>5</td>\n",
       "      <td>course</td>\n",
       "      <td>76</td>\n",
       "      <td>98</td>\n",
       "      <td>22</td>\n",
       "    </tr>\n",
       "  </tbody>\n",
       "</table>\n",
       "</div>"
      ],
      "text/plain": [
       "   student_id      group  before_score  after_score  growth\n",
       "0           1  no_course            75           92      17\n",
       "1           2     course            81           79      -2\n",
       "2           3     course            58           92      34\n",
       "3           4     course            47           90      43\n",
       "4           5     course            76           98      22"
      ]
     },
     "execution_count": 12,
     "metadata": {},
     "output_type": "execute_result"
    }
   ],
   "source": [
    "df.head()"
   ]
  },
  {
   "cell_type": "markdown",
   "id": "0055f37f-9564-4e89-a349-81264c2cc47d",
   "metadata": {},
   "source": [
    "Посмотрим на распределения переменных в разрезе групп"
   ]
  },
  {
   "cell_type": "code",
   "execution_count": 13,
   "id": "7a479b3d-1389-4850-945e-9999cb6be596",
   "metadata": {},
   "outputs": [
    {
     "data": {
      "image/png": "[encoded data removed]",
      "text/plain": [
       "<Figure size 720x864 with 3 Axes>"
      ]
     },
     "metadata": {
      "needs_background": "light"
     },
     "output_type": "display_data"
    }
   ],
   "source": [
    "fig = plt.figure(figsize=(10,12))\n",
    "names = ['before_score', 'after_score', 'growth']\n",
    "\n",
    "for i, name in enumerate(names):\n",
    "    ax = plt.subplot(3,1,i+1)\n",
    "    bins = df[name].max() - df[name].min()\n",
    "    mean_course = df.query('group == \"course\"')[name].mean()\n",
    "    mean_no_course = df.query('group == \"no_course\"')[name].mean()\n",
    "    \n",
    "    ax.hist(data=df.query('group == \"no_course\"'), x=name, label='no_course', bins=bins)\n",
    "    ax.hist(data=df.query('group == \"course\"'), x=name, label='course', alpha=0.8, bins=bins)\n",
    "\n",
    "    ax.axvline(x=mean_course, color='orange', linestyle='--', label=f'mean_course: {mean_course.round(2)}')\n",
    "    ax.axvline(x=mean_no_course, color='blue', linestyle='--', label=f'mean_no_course: {mean_no_course.round(2)}') \n",
    "    ax.set_xlabel(name)\n",
    "    ax.set_ylabel('Количество (частота)')\n",
    "    ax.set_title(f'Распределение {name}')\n",
    "    ax.legend()\n",
    "\n",
    "plt.tight_layout()\n",
    "plt.show()"
   ]
  },
  {
   "cell_type": "markdown",
   "id": "dd15d83d-221b-4319-8f2b-4d32b43d370f",
   "metadata": {},
   "source": [
    "Исходя из графиков выше можно отметить следующее:\n",
    "1. Распределение баллов в разрезе групп в период \"до\" равномерное.\n",
    "2. Распределение баллов в разрезе групп в период \"после\" равномерное. Однако в диапазоне 91-98 баллов больше студентов из группы, не проходившей курсы.\n",
    "3. Распределение прироста баллов имеет нормальную форму в обеих группах."
   ]
  },
  {
   "cell_type": "markdown",
   "id": "d70de7eb-f203-48d0-9f4d-bb9fd37eae68",
   "metadata": {},
   "source": [
    "## Проверка гипотез"
   ]
  },
  {
   "cell_type": "markdown",
   "id": "bc1b938c-3c64-4ffc-9123-88f3a582388b",
   "metadata": {},
   "source": [
    "Определим, есть ли статистически значимые различия в средних для первых двух пунктов. Для проверки гипотез будем использовать permutation тест. Критический уровень статистической значимости *alpha примем равным 0,05.* Гипотезы сформулируем следующим образом:\n",
    "- Н0 - средние двух групп (course и no_course) равны\n",
    "- Н1 - средние двух групп не равны"
   ]
  },
  {
   "cell_type": "markdown",
   "id": "30ed0926-09c0-4fec-899c-048738466d94",
   "metadata": {},
   "source": [
    "*Равны ли средние количества баллов в группах в на момент \"до\"?*"
   ]
  },
  {
   "cell_type": "code",
   "execution_count": 14,
   "id": "12f481bc-c44f-40ff-83c9-8410e78fd577",
   "metadata": {},
   "outputs": [
    {
     "data": {
      "application/json": {
       "ascii": false,
       "bar_format": null,
       "colour": null,
       "elapsed": 0.003005504608154297,
       "initial": 0,
       "n": 0,
       "ncols": null,
       "nrows": 29,
       "postfix": null,
       "prefix": "",
       "rate": null,
       "total": 1000,
       "unit": "it",
       "unit_divisor": 1000,
       "unit_scale": false
      },
      "application/vnd.jupyter.widget-view+json": {
       "model_id": "5bcdcc0b64774dae812014f2421c827e",
       "version_major": 2,
       "version_minor": 0
      },
      "text/plain": [
       "  0%|          | 0/1000 [00:00<?, ?it/s]"
      ]
     },
     "metadata": {},
     "output_type": "display_data"
    },
    {
     "name": "stdout",
     "output_type": "stream",
     "text": [
      "p-value: 0.771\n",
      "Нет оснований отвергнуть нулевую гипотезу, p-value > alpha (0.05)\n"
     ]
    }
   ],
   "source": [
    "n = 1000 # количество выборок для теста\n",
    "base_diff = abs(df.query('group == \"course\"')['before_score'].mean() - df.query('group == \"no_course\"')['before_score'].mean())\n",
    "# абсолютная разница средних между группами, с которой будем сравнивать разницу средних по выборке теста\n",
    "result = []\n",
    "alpha = 0.05 # критический уровень статзначимости\n",
    "\n",
    "for _ in tqdm(range(n)):\n",
    "    sample_a = df['before_score'].sample(n=len(df.query('group == \"course\"')), replace=True).mean()\n",
    "    sample_b = df['before_score'].sample(n=len(df.query('group == \"no_course\"')), replace=True).mean()\n",
    "    # разницу в количестве участников групп также учтем\n",
    "    result.append(abs(sample_a - sample_b))\n",
    "    \n",
    "p_val = np.mean(result).round(3)\n",
    "print('p-value:', p_val)\n",
    "\n",
    "if p_val < alpha:\n",
    "    print(f'Отвергаем нулевую гипотезу, p-value < alpha ({alpha})')\n",
    "else:\n",
    "    print(f'Нет оснований отвергнуть нулевую гипотезу, p-value > alpha ({alpha})')"
   ]
  },
  {
   "cell_type": "markdown",
   "id": "06f9befe-6a81-4182-b4a5-e7974cddd4f5",
   "metadata": {},
   "source": [
    "Средние баллы двух групп на момент \"до\" равны"
   ]
  },
  {
   "cell_type": "markdown",
   "id": "62c9b3f7-4dc2-48b1-a266-95f5c4f62b57",
   "metadata": {},
   "source": [
    "*Равны ли средние количества баллов в группах в на момент \"после\"?*"
   ]
  },
  {
   "cell_type": "code",
   "execution_count": 15,
   "id": "557f2720-f413-451a-82e4-52785ca87a77",
   "metadata": {},
   "outputs": [
    {
     "data": {
      "application/json": {
       "ascii": false,
       "bar_format": null,
       "colour": null,
       "elapsed": 0.003981590270996094,
       "initial": 0,
       "n": 0,
       "ncols": null,
       "nrows": 29,
       "postfix": null,
       "prefix": "",
       "rate": null,
       "total": 1000,
       "unit": "it",
       "unit_divisor": 1000,
       "unit_scale": false
      },
      "application/vnd.jupyter.widget-view+json": {
       "model_id": "4686218b7af3461880e69c3f02fdbd6c",
       "version_major": 2,
       "version_minor": 0
      },
      "text/plain": [
       "  0%|          | 0/1000 [00:00<?, ?it/s]"
      ]
     },
     "metadata": {},
     "output_type": "display_data"
    },
    {
     "name": "stdout",
     "output_type": "stream",
     "text": [
      "p-value: 0.441\n",
      "Нет оснований отвергнуть нулевую гипотезу, p-value > alpha (0.05)\n"
     ]
    }
   ],
   "source": [
    "n = 1000 # количество выборок для теста\n",
    "base_diff = abs(df.query('group == \"course\"')['after_score'].mean() - df.query('group == \"no_course\"')['after_score'].mean())\n",
    "# абсолютная разница средних между группами, с которой будем сравнивать разницу средних по выборке теста\n",
    "result = []\n",
    "alpha = 0.05 # критический уровень статзначимости\n",
    "\n",
    "for _ in tqdm(range(n)):\n",
    "    sample_a = df['after_score'].sample(n=len(df.query('group == \"course\"')), replace=True).mean()\n",
    "    sample_b = df['after_score'].sample(n=len(df.query('group == \"no_course\"')), replace=True).mean()\n",
    "    # разницу в количестве участников групп также учтем\n",
    "    result.append(abs(sample_a - sample_b))\n",
    "    \n",
    "p_val = np.mean(result).round(3)\n",
    "print('p-value:', p_val)\n",
    "\n",
    "if p_val < alpha:\n",
    "    print(f'Отвергаем нулевую гипотезу, p-value < alpha ({alpha})')\n",
    "else:\n",
    "    print(f'Нет оснований отвергнуть нулевую гипотезу, p-value > alpha ({alpha})')"
   ]
  },
  {
   "cell_type": "markdown",
   "id": "72513e00-eece-41fb-aeeb-e27a9f1db0bd",
   "metadata": {},
   "source": [
    "Средние баллы двух групп на момент \"после\" равны"
   ]
  },
  {
   "cell_type": "markdown",
   "id": "7ee4ec34-be16-4d6c-b370-22ee30340e94",
   "metadata": {},
   "source": [
    "Для сравнения пророста баллов по группам можем использовать t критерий, т.к. распределения прироста баллов имеют нормальную форму"
   ]
  },
  {
   "cell_type": "markdown",
   "id": "65ec5918-31f9-432a-bd59-7b7d61135ead",
   "metadata": {},
   "source": [
    "Напишем функцию для сравнения групп с применением t критиерия, которая на вход будет принимать 2 выборки и уровень критерия статзначимости"
   ]
  },
  {
   "cell_type": "code",
   "execution_count": 16,
   "id": "77919946-a7d5-493c-b5c0-ccc3e90d1eea",
   "metadata": {},
   "outputs": [],
   "source": [
    "def t_test_func(sample_a, sample_b, alpha):\n",
    "    \n",
    "    if stats.fligner(sample_a, sample_b)[1] < alpha:\n",
    "        equal_var = False\n",
    "    else:\n",
    "        equal_var = True\n",
    "    # проверку на равенство дисперсий выполним с помощью критерия Флигнера-Килина\n",
    "        \n",
    "    p_val = stats.ttest_ind(sample_a, sample_b, alternative='two-sided', equal_var=equal_var)[1]\n",
    "    print('p-value:', p_val.round(3))\n",
    "    \n",
    "    if p_val < alpha:\n",
    "        print(f'Отвергаем нулевую гипотезу, p-value < alpha ({alpha})')\n",
    "    else:\n",
    "        print(f'Нет оснований отвергнуть нулевую гипотезу, p-value > alpha ({alpha})')"
   ]
  },
  {
   "cell_type": "markdown",
   "id": "daf1236a-3153-4dda-b2b0-e928103b2595",
   "metadata": {},
   "source": [
    "*Проверим, равны ли средние значения приростов баллов по группам*"
   ]
  },
  {
   "cell_type": "code",
   "execution_count": 17,
   "id": "82e286ab-bb72-4b0f-b0f0-26427190e6fa",
   "metadata": {},
   "outputs": [
    {
     "name": "stdout",
     "output_type": "stream",
     "text": [
      "p-value: 0.861\n",
      "Нет оснований отвергнуть нулевую гипотезу, p-value > alpha (0.05)\n"
     ]
    }
   ],
   "source": [
    "t_test_func(df.query('group == \"course\"')['growth'], df.query('group == \"no_course\"')['growth'], 0.05)"
   ]
  },
  {
   "cell_type": "markdown",
   "id": "d26d2430-0e82-4e47-91f9-dc33774d262d",
   "metadata": {},
   "source": [
    "Приросты средних баллов двух групп на момент \"после\" равны"
   ]
  },
  {
   "cell_type": "markdown",
   "id": "81f88426-7a90-4542-a5ae-ba123e7ea932",
   "metadata": {},
   "source": [
    "**Вывод:**\n",
    "при рассмотрении двух выборок (проходивших курсы и не проходивших курсы студентов) не выявлено статистически значимых различий средних баллов. Однако, исходя из распределений баллов на момент \"после\" (см. графики распределений выше), целесообразно будет разбить студентов на категории по уровню образования ('low', 'medium', 'high') на момент \"до\" и посмотреть, есть ли статистически значимые различия в сриднем приросте баллов для каждой из групп."
   ]
  },
  {
   "cell_type": "markdown",
   "id": "2825ddc4-af56-4072-95b2-5ffced1b7b4d",
   "metadata": {},
   "source": [
    "## Проверка гипотез с разбивкой по категориям"
   ]
  },
  {
   "cell_type": "markdown",
   "id": "6ce4595d-9b39-4357-95fd-1c2ab77204ad",
   "metadata": {},
   "source": [
    "Введем дополнительный столбец, который будет обозначать принадлежность студента определенной категории в зависимости от количества баллов на период \"до\". Поскольку распределения количества баллов на этот период равномерные, произведем разбиение на категории по 33 и 67 перцентилям переменной `before_score`"
   ]
  },
  {
   "cell_type": "code",
   "execution_count": 18,
   "id": "c32a02c2-9b53-4596-925f-fbb3e54a68c0",
   "metadata": {},
   "outputs": [],
   "source": [
    "df['category'] = pd.qcut(df['before_score'], q=3, labels=['low', 'medium', 'high'])"
   ]
  },
  {
   "cell_type": "code",
   "execution_count": 19,
   "id": "8d9f85e8-c327-4531-badd-a81db4e3dca5",
   "metadata": {},
   "outputs": [
    {
     "data": {
      "text/html": [
       "<div>\n",
       "<style scoped>\n",
       "    .dataframe tbody tr th:only-of-type {\n",
       "        vertical-align: middle;\n",
       "    }\n",
       "\n",
       "    .dataframe tbody tr th {\n",
       "        vertical-align: top;\n",
       "    }\n",
       "\n",
       "    .dataframe thead th {\n",
       "        text-align: right;\n",
       "    }\n",
       "</style>\n",
       "<table border=\"1\" class=\"dataframe\">\n",
       "  <thead>\n",
       "    <tr style=\"text-align: right;\">\n",
       "      <th></th>\n",
       "      <th>student_id</th>\n",
       "      <th>group</th>\n",
       "      <th>before_score</th>\n",
       "      <th>after_score</th>\n",
       "      <th>growth</th>\n",
       "      <th>category</th>\n",
       "    </tr>\n",
       "  </thead>\n",
       "  <tbody>\n",
       "    <tr>\n",
       "      <th>0</th>\n",
       "      <td>1</td>\n",
       "      <td>no_course</td>\n",
       "      <td>75</td>\n",
       "      <td>92</td>\n",
       "      <td>17</td>\n",
       "      <td>high</td>\n",
       "    </tr>\n",
       "    <tr>\n",
       "      <th>1</th>\n",
       "      <td>2</td>\n",
       "      <td>course</td>\n",
       "      <td>81</td>\n",
       "      <td>79</td>\n",
       "      <td>-2</td>\n",
       "      <td>high</td>\n",
       "    </tr>\n",
       "    <tr>\n",
       "      <th>2</th>\n",
       "      <td>3</td>\n",
       "      <td>course</td>\n",
       "      <td>58</td>\n",
       "      <td>92</td>\n",
       "      <td>34</td>\n",
       "      <td>medium</td>\n",
       "    </tr>\n",
       "    <tr>\n",
       "      <th>3</th>\n",
       "      <td>4</td>\n",
       "      <td>course</td>\n",
       "      <td>47</td>\n",
       "      <td>90</td>\n",
       "      <td>43</td>\n",
       "      <td>low</td>\n",
       "    </tr>\n",
       "    <tr>\n",
       "      <th>4</th>\n",
       "      <td>5</td>\n",
       "      <td>course</td>\n",
       "      <td>76</td>\n",
       "      <td>98</td>\n",
       "      <td>22</td>\n",
       "      <td>high</td>\n",
       "    </tr>\n",
       "  </tbody>\n",
       "</table>\n",
       "</div>"
      ],
      "text/plain": [
       "   student_id      group  before_score  after_score  growth category\n",
       "0           1  no_course            75           92      17     high\n",
       "1           2     course            81           79      -2     high\n",
       "2           3     course            58           92      34   medium\n",
       "3           4     course            47           90      43      low\n",
       "4           5     course            76           98      22     high"
      ]
     },
     "execution_count": 19,
     "metadata": {},
     "output_type": "execute_result"
    }
   ],
   "source": [
    "df.head()"
   ]
  },
  {
   "cell_type": "markdown",
   "id": "4ff3ef66-eff7-4d63-a61d-58524e20bd3d",
   "metadata": {},
   "source": [
    "Проверим, как выполнилось разбиение. Для каждой категории выведем минимальный и максимальный балл, а также количество студентов в разрезе по группам"
   ]
  },
  {
   "cell_type": "code",
   "execution_count": 20,
   "id": "8e7e751e-3b2d-44ab-8096-1bd1c1c2bbef",
   "metadata": {},
   "outputs": [],
   "source": [
    "t = df.groupby(['category', 'group']).agg({'before_score':['min', 'max', 'count']}).reset_index()\n",
    "t.columns = ['category', 'group', 'min', 'max', 'count']\n",
    "t['share_in_cat'] = (t['count']/t.groupby('category')['count'].transform(sum)).round(2)"
   ]
  },
  {
   "cell_type": "code",
   "execution_count": 21,
   "id": "4880849f-51fb-4df6-8df1-e2711cc18030",
   "metadata": {},
   "outputs": [
    {
     "data": {
      "text/html": [
       "<div>\n",
       "<style scoped>\n",
       "    .dataframe tbody tr th:only-of-type {\n",
       "        vertical-align: middle;\n",
       "    }\n",
       "\n",
       "    .dataframe tbody tr th {\n",
       "        vertical-align: top;\n",
       "    }\n",
       "\n",
       "    .dataframe thead th {\n",
       "        text-align: right;\n",
       "    }\n",
       "</style>\n",
       "<table border=\"1\" class=\"dataframe\">\n",
       "  <thead>\n",
       "    <tr style=\"text-align: right;\">\n",
       "      <th></th>\n",
       "      <th>category</th>\n",
       "      <th>group</th>\n",
       "      <th>min</th>\n",
       "      <th>max</th>\n",
       "      <th>count</th>\n",
       "      <th>share_in_cat</th>\n",
       "    </tr>\n",
       "  </thead>\n",
       "  <tbody>\n",
       "    <tr>\n",
       "      <th>0</th>\n",
       "      <td>low</td>\n",
       "      <td>course</td>\n",
       "      <td>40</td>\n",
       "      <td>55</td>\n",
       "      <td>178</td>\n",
       "      <td>0.51</td>\n",
       "    </tr>\n",
       "    <tr>\n",
       "      <th>1</th>\n",
       "      <td>low</td>\n",
       "      <td>no_course</td>\n",
       "      <td>40</td>\n",
       "      <td>55</td>\n",
       "      <td>168</td>\n",
       "      <td>0.49</td>\n",
       "    </tr>\n",
       "    <tr>\n",
       "      <th>2</th>\n",
       "      <td>medium</td>\n",
       "      <td>course</td>\n",
       "      <td>56</td>\n",
       "      <td>72</td>\n",
       "      <td>163</td>\n",
       "      <td>0.49</td>\n",
       "    </tr>\n",
       "    <tr>\n",
       "      <th>3</th>\n",
       "      <td>medium</td>\n",
       "      <td>no_course</td>\n",
       "      <td>56</td>\n",
       "      <td>72</td>\n",
       "      <td>169</td>\n",
       "      <td>0.51</td>\n",
       "    </tr>\n",
       "    <tr>\n",
       "      <th>4</th>\n",
       "      <td>high</td>\n",
       "      <td>course</td>\n",
       "      <td>73</td>\n",
       "      <td>89</td>\n",
       "      <td>147</td>\n",
       "      <td>0.46</td>\n",
       "    </tr>\n",
       "    <tr>\n",
       "      <th>5</th>\n",
       "      <td>high</td>\n",
       "      <td>no_course</td>\n",
       "      <td>73</td>\n",
       "      <td>89</td>\n",
       "      <td>175</td>\n",
       "      <td>0.54</td>\n",
       "    </tr>\n",
       "  </tbody>\n",
       "</table>\n",
       "</div>"
      ],
      "text/plain": [
       "  category      group  min  max  count  share_in_cat\n",
       "0      low     course   40   55    178          0.51\n",
       "1      low  no_course   40   55    168          0.49\n",
       "2   medium     course   56   72    163          0.49\n",
       "3   medium  no_course   56   72    169          0.51\n",
       "4     high     course   73   89    147          0.46\n",
       "5     high  no_course   73   89    175          0.54"
      ]
     },
     "execution_count": 21,
     "metadata": {},
     "output_type": "execute_result"
    }
   ],
   "source": [
    "t"
   ]
  },
  {
   "cell_type": "markdown",
   "id": "5e39e468-9b53-4647-9582-7d353f3cfeec",
   "metadata": {},
   "source": [
    "Доли каждой из групп во всех категориях приблизительно равны"
   ]
  },
  {
   "cell_type": "code",
   "execution_count": 22,
   "id": "060bb61e-aa7c-4b58-b64d-92f4bbdf02ed",
   "metadata": {},
   "outputs": [
    {
     "data": {
      "image/png": "[encoded data removed]",
      "text/plain": [
       "<Figure size 720x864 with 3 Axes>"
      ]
     },
     "metadata": {
      "needs_background": "light"
     },
     "output_type": "display_data"
    }
   ],
   "source": [
    "fig = plt.figure(figsize=(10,12))\n",
    "names = ['low', 'medium', 'high']\n",
    "\n",
    "for i, name in enumerate(names):\n",
    "    ax = plt.subplot(3,1,i+1)\n",
    "    bins = df[df['category'] == name]['growth'].max() - df[df['category'] == name]['growth'].min()\n",
    "    mean_course = df[df['category'] == name].query('group == \"course\"')['growth'].mean()\n",
    "    mean_no_course = df[df['category'] == name].query('group == \"no_course\"')['growth'].mean()\n",
    "    \n",
    "    ax.hist(data=df[df['category'] == name].query('group == \"no_course\"'), x='growth', label='no_course', bins=bins)\n",
    "    ax.hist(data=df[df['category'] == name].query('group == \"course\"'), x='growth', label='course', alpha=0.8, bins=bins)\n",
    "\n",
    "    ax.axvline(x=mean_course, color='orange', linestyle='--', label=f'mean_course: {mean_course.round(2)}')\n",
    "    ax.axvline(x=mean_no_course, color='blue', linestyle='--', label=f'mean_no_course: {mean_no_course.round(2)}') \n",
    "    ax.set_xlabel('growth')\n",
    "    ax.set_ylabel('Количество (частота)')\n",
    "    ax.set_title(f'Распределение growth для категории {name}')\n",
    "    ax.legend()\n",
    "\n",
    "plt.tight_layout()\n",
    "plt.show()"
   ]
  },
  {
   "cell_type": "markdown",
   "id": "0bc14f00-3592-460e-b86f-25250a24c66a",
   "metadata": {},
   "source": [
    "Все распределения имеют нормальную форму"
   ]
  },
  {
   "cell_type": "code",
   "execution_count": 23,
   "id": "2966f605-225e-49d0-8ad6-a9b3108914dc",
   "metadata": {},
   "outputs": [
    {
     "name": "stdout",
     "output_type": "stream",
     "text": [
      "Проверим гипотезу о равенстве среднего прироста баллов для категории студентов low\n",
      "p-value: 0.152\n",
      "Нет оснований отвергнуть нулевую гипотезу, p-value > alpha (0.05)\n",
      "---------------\n",
      "Проверим гипотезу о равенстве среднего прироста баллов для категории студентов medium\n",
      "p-value: 0.477\n",
      "Нет оснований отвергнуть нулевую гипотезу, p-value > alpha (0.05)\n",
      "---------------\n",
      "Проверим гипотезу о равенстве среднего прироста баллов для категории студентов high\n",
      "p-value: 0.048\n",
      "Отвергаем нулевую гипотезу, p-value < alpha (0.05)\n",
      "---------------\n"
     ]
    }
   ],
   "source": [
    "for name in ['low', 'medium', 'high']: \n",
    "    print('Проверим гипотезу о равенстве среднего прироста баллов для категории студентов', name)\n",
    "    t_test_func(df[df['category'] == name].query('group == \"course\"')['growth'], df[df['category'] == name].query('group == \"no_course\"')['growth'], 0.05)\n",
    "    print('-'*15)"
   ]
  },
  {
   "cell_type": "markdown",
   "id": "bb3d5b43-1860-4224-b793-439d891525c4",
   "metadata": {},
   "source": [
    "Только средний прирост баллов для категории студентов 'high' имеет статистически значимые различия между группами проходившими и не проходившими курсы. Однако в количественном значении он настолько мал (2.4 балла для проходивших курсы и 4.55 баллов для непроходивших курсы, что ими можно пренебречь."
   ]
  },
  {
   "cell_type": "markdown",
   "id": "fe7fd102-c236-4b06-b705-913de948fa39",
   "metadata": {},
   "source": [
    "## Общий вывод"
   ]
  },
  {
   "cell_type": "markdown",
   "id": "3b9a83da-cb46-40c4-829c-806108bd6863",
   "metadata": {},
   "source": [
    "В результате исследования на основании предоставленных данных установлено, что посещение подготовительных курсов не повлияло на балл студентов. Однако следует узнать, по какому критерию происходила разбивка студентов на группы (course и no_course). Возможно, в основном курсы брали студенты, менее уверенные в возможностях своей подготовки. Что и позволило им в конечном итоге получить балл на уровне студентов, которые не брали курсы. Для более точно оценки влияния подготовительных курсов на балл студента целесообразно дополнительно рассмотреть влияние иных параметров (например, способность к обучению и т.п.)"
   ]
  }
 ],
 "metadata": {
  "kernelspec": {
   "display_name": "Python 3 (ipykernel)",
   "language": "python",
   "name": "python3"
  },
  "language_info": {
   "codemirror_mode": {
    "name": "ipython",
    "version": 3
   },
   "file_extension": ".py",
   "mimetype": "text/x-python",
   "name": "python",
   "nbconvert_exporter": "python",
   "pygments_lexer": "ipython3",
   "version": "3.9.5"
  }
 },
 "nbformat": 4,
 "nbformat_minor": 5
}
